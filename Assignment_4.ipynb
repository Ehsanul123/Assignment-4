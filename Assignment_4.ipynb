{
 "cells": [
  {
   "cell_type": "code",
   "execution_count": null,
   "id": "4a458aa1",
   "metadata": {},
   "outputs": [],
   "source": [
    "#1:\n",
    "\n",
    "What exactly is []?\n",
    "Ans:\n",
    "    It is the notation of empty list value,which is empty list value that contain no value. "
   ]
  },
  {
   "cell_type": "code",
   "execution_count": 16,
   "id": "b7b51968",
   "metadata": {},
   "outputs": [],
   "source": [
    "#2:\n",
    "\n",
    "l=['h','e','l','l','o']"
   ]
  },
  {
   "cell_type": "code",
   "execution_count": 17,
   "id": "b344e447",
   "metadata": {},
   "outputs": [],
   "source": [
    "s=''.join(l)"
   ]
  },
  {
   "cell_type": "code",
   "execution_count": 18,
   "id": "53c08cdf",
   "metadata": {},
   "outputs": [
    {
     "data": {
      "text/plain": [
       "'hello'"
      ]
     },
     "execution_count": 18,
     "metadata": {},
     "output_type": "execute_result"
    }
   ],
   "source": [
    "s"
   ]
  },
  {
   "cell_type": "code",
   "execution_count": 21,
   "id": "22fec23b",
   "metadata": {},
   "outputs": [
    {
     "data": {
      "text/plain": [
       "3"
      ]
     },
     "execution_count": 21,
     "metadata": {},
     "output_type": "execute_result"
    }
   ],
   "source": [
    "#3:\n",
    "\n",
    "int(int('3'* 2) / 11)"
   ]
  },
  {
   "cell_type": "code",
   "execution_count": 22,
   "id": "bc002cbc",
   "metadata": {},
   "outputs": [],
   "source": [
    "#4:\n",
    "l=[2, 4, 6, 8, 10]\n"
   ]
  },
  {
   "cell_type": "code",
   "execution_count": 23,
   "id": "f8868ea7",
   "metadata": {},
   "outputs": [
    {
     "data": {
      "text/plain": [
       "[2, 4, 6, 8, 10]"
      ]
     },
     "execution_count": 23,
     "metadata": {},
     "output_type": "execute_result"
    }
   ],
   "source": [
    "l"
   ]
  },
  {
   "cell_type": "code",
   "execution_count": 25,
   "id": "c7613ea7",
   "metadata": {},
   "outputs": [
    {
     "data": {
      "text/plain": [
       "10"
      ]
     },
     "execution_count": 25,
     "metadata": {},
     "output_type": "execute_result"
    }
   ],
   "source": [
    "l[-1]"
   ]
  },
  {
   "cell_type": "code",
   "execution_count": 26,
   "id": "fc44ef85",
   "metadata": {},
   "outputs": [
    {
     "data": {
      "text/plain": [
       "[2, 4]"
      ]
     },
     "execution_count": 26,
     "metadata": {},
     "output_type": "execute_result"
    }
   ],
   "source": [
    "#5:\n",
    "\n",
    "l[:2]"
   ]
  },
  {
   "cell_type": "code",
   "execution_count": 27,
   "id": "79e53fa5",
   "metadata": {},
   "outputs": [],
   "source": [
    "#6:\n",
    "\n",
    "l=[3.14,'cat',11,'cat',True]"
   ]
  },
  {
   "cell_type": "code",
   "execution_count": 28,
   "id": "983c86af",
   "metadata": {},
   "outputs": [
    {
     "data": {
      "text/plain": [
       "[3.14, 'cat', 11, 'cat', True]"
      ]
     },
     "execution_count": 28,
     "metadata": {},
     "output_type": "execute_result"
    }
   ],
   "source": [
    "l"
   ]
  },
  {
   "cell_type": "code",
   "execution_count": 31,
   "id": "f5abdece",
   "metadata": {},
   "outputs": [
    {
     "data": {
      "text/plain": [
       "1"
      ]
     },
     "execution_count": 31,
     "metadata": {},
     "output_type": "execute_result"
    }
   ],
   "source": [
    "l.index('cat')"
   ]
  },
  {
   "cell_type": "code",
   "execution_count": 32,
   "id": "af12415d",
   "metadata": {},
   "outputs": [],
   "source": [
    "#7:\n",
    "\n",
    "l.append(99)"
   ]
  },
  {
   "cell_type": "code",
   "execution_count": 33,
   "id": "faf1cb25",
   "metadata": {},
   "outputs": [
    {
     "data": {
      "text/plain": [
       "[3.14, 'cat', 11, 'cat', True, 99]"
      ]
     },
     "execution_count": 33,
     "metadata": {},
     "output_type": "execute_result"
    }
   ],
   "source": [
    "l"
   ]
  },
  {
   "cell_type": "code",
   "execution_count": 34,
   "id": "966ddb4a",
   "metadata": {},
   "outputs": [],
   "source": [
    "#8:\n",
    "\n",
    "l.remove('cat')"
   ]
  },
  {
   "cell_type": "code",
   "execution_count": 35,
   "id": "7a057cfb",
   "metadata": {},
   "outputs": [
    {
     "data": {
      "text/plain": [
       "[3.14, 11, 'cat', True, 99]"
      ]
     },
     "execution_count": 35,
     "metadata": {},
     "output_type": "execute_result"
    }
   ],
   "source": [
    "l"
   ]
  },
  {
   "cell_type": "code",
   "execution_count": null,
   "id": "879c1d5f",
   "metadata": {},
   "outputs": [],
   "source": [
    "#9:\n",
    "\n",
    "The operator for list concatenation is +, while the operator for replication is *"
   ]
  },
  {
   "cell_type": "code",
   "execution_count": null,
   "id": "eb16b647",
   "metadata": {},
   "outputs": [],
   "source": [
    "#10:\n",
    "\n",
    "append() : we can add the element only at end of the list.\n",
    "insert() : add a specific element at a specified index of the list.\n"
   ]
  },
  {
   "cell_type": "code",
   "execution_count": null,
   "id": "c3249586",
   "metadata": {},
   "outputs": [],
   "source": [
    "#11:\n",
    "\n",
    "Two methods for removing items from a list : remove()  and pop()"
   ]
  },
  {
   "cell_type": "code",
   "execution_count": null,
   "id": "d3149cec",
   "metadata": {},
   "outputs": [],
   "source": [
    "#12:\n",
    "\n",
    "list[] - we can add string,int,tuple , dict and many more.\n",
    "str()  - we can add only char data type not other. "
   ]
  },
  {
   "cell_type": "code",
   "execution_count": null,
   "id": "0272e243",
   "metadata": {},
   "outputs": [],
   "source": [
    "#13:\n",
    "\n",
    "the tuples are immutable objects the lists are mutable."
   ]
  },
  {
   "cell_type": "code",
   "execution_count": 37,
   "id": "5fe89bfb",
   "metadata": {},
   "outputs": [],
   "source": [
    "#15:\n",
    "\n",
    "l=[3,4,5,6,7]"
   ]
  },
  {
   "cell_type": "code",
   "execution_count": 38,
   "id": "269f7a93",
   "metadata": {},
   "outputs": [
    {
     "data": {
      "text/plain": [
       "[3, 4, 5, 6, 7]"
      ]
     },
     "execution_count": 38,
     "metadata": {},
     "output_type": "execute_result"
    }
   ],
   "source": [
    "l"
   ]
  },
  {
   "cell_type": "code",
   "execution_count": 46,
   "id": "8bd6f5d5",
   "metadata": {},
   "outputs": [],
   "source": [
    "t=tuple(l)"
   ]
  },
  {
   "cell_type": "code",
   "execution_count": 48,
   "id": "82ea67aa",
   "metadata": {},
   "outputs": [
    {
     "data": {
      "text/plain": [
       "(3, 4, 5, 6, 7)"
      ]
     },
     "execution_count": 48,
     "metadata": {},
     "output_type": "execute_result"
    }
   ],
   "source": [
    "t"
   ]
  },
  {
   "cell_type": "code",
   "execution_count": 49,
   "id": "2fbe44f0",
   "metadata": {},
   "outputs": [
    {
     "data": {
      "text/plain": [
       "[3, 4, 5, 6, 7]"
      ]
     },
     "execution_count": 49,
     "metadata": {},
     "output_type": "execute_result"
    }
   ],
   "source": [
    "list(t)"
   ]
  },
  {
   "cell_type": "code",
   "execution_count": null,
   "id": "68a200f4",
   "metadata": {},
   "outputs": [],
   "source": [
    "#16:\n",
    "\n",
    "Variables will contain references to list values rather than list values themselves.\n",
    "But for strings and integer values,variables simply contain the string or integer value."
   ]
  },
  {
   "cell_type": "code",
   "execution_count": null,
   "id": "76576226",
   "metadata": {},
   "outputs": [],
   "source": [
    "#17:\n",
    "\n",
    "copy()     :  create reference to original object. If you change copied object - you change the original object.\n",
    "deepcopy() :  creates new object and does real copying of original object to new one.\n"
   ]
  }
 ],
 "metadata": {
  "kernelspec": {
   "display_name": "Python 3 (ipykernel)",
   "language": "python",
   "name": "python3"
  },
  "language_info": {
   "codemirror_mode": {
    "name": "ipython",
    "version": 3
   },
   "file_extension": ".py",
   "mimetype": "text/x-python",
   "name": "python",
   "nbconvert_exporter": "python",
   "pygments_lexer": "ipython3",
   "version": "3.9.7"
  }
 },
 "nbformat": 4,
 "nbformat_minor": 5
}
